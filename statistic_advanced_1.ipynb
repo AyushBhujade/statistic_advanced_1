{
 "cells": [
  {
   "cell_type": "markdown",
   "id": "a3355137-eff1-4d7b-9ecc-2216f8c90486",
   "metadata": {},
   "source": [
    "quation 1:"
   ]
  },
  {
   "cell_type": "markdown",
   "id": "09b3cdd5-dd7a-4845-ab22-295a77952aba",
   "metadata": {},
   "source": [
    "1)the probability density function describ the likelihood of a continuous random variable taking on specific value.\n",
    "2)it is denoted by f(x) where x is the variable .\n",
    "3)properties: i)it is always non negative value \n",
    "              ii)the total area under the curve equals 1 over a entire range of possible value."
   ]
  },
  {
   "cell_type": "markdown",
   "id": "882459f5-734c-4382-af5d-92048a1b9554",
   "metadata": {},
   "source": [
    "quation 2:"
   ]
  },
  {
   "cell_type": "markdown",
   "id": "41231f08-5d8a-4ba3-b0a4-5316bac89acf",
   "metadata": {},
   "source": [
    "there are mainly two types: i) probability Density Function\n",
    "                            ii) Probability Mass Function\n",
    "                            \n",
    "in pdf there are three types: i)Normal Distribution\n",
    "                              ii) uniform Didtribution\n",
    "                              iii) exponential distribution\n",
    "                              \n",
    "In pmf there are three types: i)Bernoulli Distribution\n",
    "                              ii)Binomial Distribution\n",
    "                              iii)poisson Distribution"
   ]
  },
  {
   "cell_type": "markdown",
   "id": "dbdc3e76-f5a3-4e31-af95-491ef2116d07",
   "metadata": {},
   "source": [
    "quation 3:"
   ]
  },
  {
   "cell_type": "code",
   "execution_count": 1,
   "id": "037e4a6c-4a94-4d80-bbb1-56b78920f093",
   "metadata": {},
   "outputs": [],
   "source": [
    "from scipy.stats import norm"
   ]
  },
  {
   "cell_type": "code",
   "execution_count": 3,
   "id": "4b85cd61-7a00-47cc-b615-e454e2d0c3fa",
   "metadata": {},
   "outputs": [
    {
     "name": "stdout",
     "output_type": "stream",
     "text": [
      "pdf at point1 :0.24197072451914337\n"
     ]
    }
   ],
   "source": [
    "def calculate_normal_pdf(mean,std_dev,x):\n",
    "    pdf_value=norm.pdf(x,loc=mean,scale=std_dev)\n",
    "    return pdf_value\n",
    "mean_value=0\n",
    "std_dev_value=1\n",
    "point_to_evaluate=1\n",
    " \n",
    "result=calculate_normal_pdf(mean_value,std_dev_value,point_to_evaluate)\n",
    "print(f\"pdf at point{point_to_evaluate} :{result}\")"
   ]
  },
  {
   "cell_type": "markdown",
   "id": "5816f626-75d8-433e-afde-59b16aac731f",
   "metadata": {},
   "source": [
    "quation 4:"
   ]
  },
  {
   "cell_type": "markdown",
   "id": "8cc8488d-c284-493a-8c8e-c75be6ca5870",
   "metadata": {},
   "source": [
    "1)it is the group or number of bernoulli destribution\n",
    "2)every experiment outcome is binary\n",
    "3)fixed number of trial(n)\n",
    "4)each trial is independent of other\n",
    "5)the random variable representing the number of successes is discrete\n",
    "\n",
    "ex-1)coin flip :each flip of a fair coin result in a binary outcome head or tail\n",
    "\n",
    "   2)exam result pass or fail"
   ]
  },
  {
   "cell_type": "markdown",
   "id": "10040896-64fc-4241-a1c6-64c659e2e849",
   "metadata": {},
   "source": [
    "quation 5:"
   ]
  },
  {
   "cell_type": "code",
   "execution_count": 5,
   "id": "ffe238ac-5bd2-447b-8da5-dc1294c6126a",
   "metadata": {},
   "outputs": [],
   "source": [
    "import numpy as np\n",
    "import matplotlib.pyplot as plt"
   ]
  },
  {
   "cell_type": "code",
   "execution_count": 13,
   "id": "21bd32db-f78e-4ea7-b42e-db0c2c31721f",
   "metadata": {},
   "outputs": [
    {
     "data": {
      "image/png": "[encoded data removed]",
      "text/plain": [
       "<Figure size 640x480 with 1 Axes>"
      ]
     },
     "metadata": {},
     "output_type": "display_data"
    }
   ],
   "source": [
    "probability_of_success=0.5\n",
    "sample_size=1000\n",
    "random_sample=np.random.binomial(n=1,p=0.5,size=1000)\n",
    "plt.hist(random_sample,bins=[-0.5,0.5,1.5],edgecolor='black')\n",
    "plt.xticks([0,1],['Failure','Success'])\n",
    "plt.xlabel(\"outcome\")\n",
    "plt.ylabel(\"frequency\")\n",
    "plt.title(\"binomial distribution random sample \")\n",
    "plt.show()"
   ]
  },
  {
   "cell_type": "markdown",
   "id": "a4f4e8fa-7d27-4600-97fb-f5ee2a3b9c9c",
   "metadata": {},
   "source": [
    "quation 6"
   ]
  },
  {
   "cell_type": "code",
   "execution_count": 14,
   "id": "de4b4c36-a250-4188-8e03-b61d5b373764",
   "metadata": {},
   "outputs": [],
   "source": [
    "from scipy.stats import poisson"
   ]
  },
  {
   "cell_type": "code",
   "execution_count": 19,
   "id": "978d7183-c833-45f4-9e5c-af7c76b405ff",
   "metadata": {},
   "outputs": [
    {
     "name": "stdout",
     "output_type": "stream",
     "text": [
      "cdf at 2 is :0.42319008112684364\n"
     ]
    }
   ],
   "source": [
    "def calculate_poisson_cdf(k,mean):\n",
    "    cdf_value=poisson.cdf(k,mean)\n",
    "    return cdf_value\n",
    "mean_value=3\n",
    "point_to_evaluate=2\n",
    "result=calculate_poisson_cdf(point_to_evaluate,mean_value)\n",
    "print(f\"cdf at {point_to_evaluate} is :{result}\")"
   ]
  },
  {
   "cell_type": "markdown",
   "id": "07deac57-8033-47fa-96dd-1b0959e95b4d",
   "metadata": {},
   "source": [
    "quation 7:"
   ]
  },
  {
   "cell_type": "markdown",
   "id": "63e9c71c-252f-468a-a64f-e2211edb5d48",
   "metadata": {},
   "source": [
    "binomial distribution: 1) represets the number of successes in a fixed number of independent bernoulli trails.\n",
    "                       2) the random variable is descrete represnting the count of successes.\n",
    "                       3)in each trail there is a constant probability of success\n",
    "                       4)requires a fixed number of trails each with the same probability of success.the trail are independent\n",
    "\n",
    "poisson distribution: 1) model the number of event occurring in a fixed interval of time or sppace\n",
    "                      2) the random variable is also descreate,representing a count of event\n",
    "                      3)describes rare events,so the probability of success is very small in each small interval\n",
    "                      4)describe event that occure independently in a continous time or continous space setting\n",
    "                      "
   ]
  },
  {
   "cell_type": "markdown",
   "id": "73a44e2d-e05e-4d86-96a9-7a96f39aba37",
   "metadata": {},
   "source": [
    "quation 8:"
   ]
  },
  {
   "cell_type": "code",
   "execution_count": 23,
   "id": "6ca9aeac-2784-4ad6-85cb-ad72c8bb8b2b",
   "metadata": {},
   "outputs": [],
   "source": [
    "from scipy.stats import poisson\n",
    "import numpy as np"
   ]
  },
  {
   "cell_type": "code",
   "execution_count": 24,
   "id": "ec68b56e-96ef-4741-aee5-279da64fe4ae",
   "metadata": {},
   "outputs": [
    {
     "name": "stdout",
     "output_type": "stream",
     "text": [
      "sample mean :5.18\n",
      "sample variance:5.2696000000000005\n"
     ]
    }
   ],
   "source": [
    "random_sample=np.random.poisson(5,size=1000)\n",
    "sample_mean=np.mean(random_sample)\n",
    "sample_variance=np.var(random_sample)\n",
    "print(f\"sample mean :{sample_mean}\")\n",
    "print(f\"sample variance:{sample_variance}\")"
   ]
  },
  {
   "cell_type": "markdown",
   "id": "bee9ee34-6ce5-41d1-a0e1-b3f35ef74f1a",
   "metadata": {},
   "source": [
    "quation 9:"
   ]
  },
  {
   "cell_type": "markdown",
   "id": "3568a06f-82aa-4a7b-a6fe-805a02c174d4",
   "metadata": {},
   "source": [
    "binomial distribution:\n",
    "    mean:n*p\n",
    "    variance=n*p*q\n",
    "    where n is number of trails\n",
    "    p is probability of success\n",
    "    q is probability of failure\n",
    "\n",
    "poisson distribution:\n",
    "  mean=lambda\n",
    "  variance=lambda*t\n",
    "  where lambdda is expected number of event to occure at every time interval\n",
    "  t is time interval"
   ]
  },
  {
   "cell_type": "markdown",
   "id": "679ea7fc-634d-4e02-96ea-734e17ca536c",
   "metadata": {},
   "source": [
    "quation 10"
   ]
  },
  {
   "cell_type": "markdown",
   "id": "83715f2f-cd43-4936-a00f-4c4ab5ea1e7c",
   "metadata": {},
   "source": [
    "In a normal distribution, which is symmetric, the least frequent data appears in the tails of the distribution, farthest from the mean. The tails represent extreme values, and as you move away from the mean in either direction, the frequency of occurrence decreases"
   ]
  }
 ],
 "metadata": {
  "kernelspec": {
   "display_name": "Python 3 (ipykernel)",
   "language": "python",
   "name": "python3"
  },
  "language_info": {
   "codemirror_mode": {
    "name": "ipython",
    "version": 3
   },
   "file_extension": ".py",
   "mimetype": "text/x-python",
   "name": "python",
   "nbconvert_exporter": "python",
   "pygments_lexer": "ipython3",
   "version": "3.10.8"
  }
 },
 "nbformat": 4,
 "nbformat_minor": 5
}
